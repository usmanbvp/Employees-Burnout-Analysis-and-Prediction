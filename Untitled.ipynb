{
 "cells": [
  {
   "cell_type": "code",
   "execution_count": 2,
   "id": "084031d2",
   "metadata": {},
   "outputs": [],
   "source": [
    "import pandas as pd\n",
    "\n",
    "# Read the Excel file into a pandas DataFrame\n",
    "excel_file = \"data/employee_burnout_analysis.xlsx\"  # Replace this with the actual name of your Excel file\n",
    "df = pd.read_excel(excel_file)\n",
    "\n",
    "# Write the DataFrame to a CSV file\n",
    "csv_file = \"data/employee_burnout_analysis.csv\"  # Replace this with the desired name for the CSV file\n",
    "df.to_csv(csv_file, index=False)  # Set index=False to exclude row numbers in the CSV\n"
   ]
  },
  {
   "cell_type": "code",
   "execution_count": null,
   "id": "bf603d80",
   "metadata": {},
   "outputs": [],
   "source": []
  }
 ],
 "metadata": {
  "kernelspec": {
   "display_name": "Python 3 (ipykernel)",
   "language": "python",
   "name": "python3"
  },
  "language_info": {
   "codemirror_mode": {
    "name": "ipython",
    "version": 3
   },
   "file_extension": ".py",
   "mimetype": "text/x-python",
   "name": "python",
   "nbconvert_exporter": "python",
   "pygments_lexer": "ipython3",
   "version": "3.11.0"
  }
 },
 "nbformat": 4,
 "nbformat_minor": 5
}
